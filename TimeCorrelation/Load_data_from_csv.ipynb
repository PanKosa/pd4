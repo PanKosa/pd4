{
 "cells": [
  {
   "cell_type": "code",
   "execution_count": 1,
   "metadata": {
    "collapsed": true
   },
   "outputs": [],
   "source": [
    "import sqlite3\n",
    "import csv\n",
    "conn = sqlite3.connect(\"databases/flights_full.sql\")"
   ]
  },
  {
   "cell_type": "markdown",
   "metadata": {},
   "source": [
    "# Flights"
   ]
  },
  {
   "cell_type": "code",
   "execution_count": 2,
   "metadata": {
    "collapsed": true
   },
   "outputs": [],
   "source": [
    "conn.execute(\"\"\"\n",
    "create table ontime (\n",
    "  Year int,\n",
    "  Month int,\n",
    "  DayofMonth int,\n",
    "  DayOfWeek int,\n",
    "  DepTime  int,\n",
    "  CRSDepTime int,\n",
    "  ArrTime int,\n",
    "  CRSArrTime int,\n",
    "  UniqueCarrier varchar(5),\n",
    "  FlightNum int,\n",
    "  TailNum varchar(8),\n",
    "  ActualElapsedTime int,\n",
    "  CRSElapsedTime int,\n",
    "  AirTime int,\n",
    "  ArrDelay int,\n",
    "  DepDelay int,\n",
    "  Origin varchar(3),\n",
    "  Dest varchar(3),\n",
    "  Distance int,\n",
    "  TaxiIn int,\n",
    "  TaxiOut int,\n",
    "  Cancelled int,\n",
    "  CancellationCode varchar(1),\n",
    "  Diverted varchar(1),\n",
    "  CarrierDelay int,\n",
    "  WeatherDelay int,\n",
    "  NASDelay int,\n",
    "  SecurityDelay int,\n",
    "  LateAircraftDelay int\n",
    ");\n",
    "\"\"\")\n",
    "conn.commit()"
   ]
  },
  {
   "cell_type": "code",
   "execution_count": 3,
   "metadata": {},
   "outputs": [
    {
     "name": "stdout",
     "output_type": "stream",
     "text": [
      "Loading: data/1987.csv ...\n",
      "Done\n",
      "Loading: data/1988.csv ...\n",
      "Done\n",
      "Loading: data/1989.csv ...\n",
      "Done\n",
      "Loading: data/1990.csv ...\n",
      "Done\n",
      "Loading: data/1991.csv ...\n",
      "Done\n",
      "Loading: data/1992.csv ...\n",
      "Done\n",
      "Loading: data/1993.csv ...\n",
      "Done\n",
      "Loading: data/1994.csv ...\n",
      "Done\n",
      "Loading: data/1995.csv ...\n",
      "Done\n",
      "Loading: data/1996.csv ...\n",
      "Done\n",
      "Loading: data/1997.csv ...\n",
      "Done\n",
      "Loading: data/1998.csv ...\n",
      "Done\n",
      "Loading: data/1999.csv ...\n",
      "Done\n",
      "Loading: data/2000.csv ...\n",
      "Done\n",
      "Loading: data/2001.csv ...\n",
      "Done\n",
      "Loading: data/2002.csv ...\n",
      "Done\n",
      "Loading: data/2003.csv ...\n",
      "Done\n",
      "Loading: data/2004.csv ...\n",
      "Done\n",
      "Loading: data/2005.csv ...\n",
      "Done\n",
      "Loading: data/2006.csv ...\n",
      "Done\n",
      "Loading: data/2007.csv ...\n",
      "Done\n",
      "Loading: data/2008.csv ...\n",
      "Done\n"
     ]
    }
   ],
   "source": [
    "for i in range(1987,2009):\n",
    "    filename = \"data_csv/\" + str(i) + \".csv\"\n",
    "    print(\"Loading: \"+filename+\" ...\")\n",
    "    with open(filename, encoding='latin1') as f:\n",
    "    #with open(filename, encoding='utf-8') as f:\n",
    "                reader = csv.reader(f)\n",
    "                next(reader, None)\n",
    "                for field in reader:\n",
    "                    conn.execute(\"INSERT INTO ontime VALUES (?,?,?,?,?,?,?,?,?,?,?,?,?,?,?,?,?,?,?,?,?,?,?,?,?,?,?,?,?);\"\n",
    "                                , field)\n",
    "    print(\"Done\")\n"
   ]
  },
  {
   "cell_type": "code",
   "execution_count": 4,
   "metadata": {
    "collapsed": true
   },
   "outputs": [],
   "source": [
    "conn.execute(\"\"\"\n",
    "create index year on ontime(year);\n",
    "\"\"\")\n",
    "\n",
    "conn.commit()"
   ]
  },
  {
   "cell_type": "code",
   "execution_count": 5,
   "metadata": {
    "collapsed": true
   },
   "outputs": [],
   "source": [
    "conn.execute(\"\"\"\n",
    "create index date on ontime(year, month, dayofmonth);\n",
    "\"\"\")\n",
    "conn.commit()"
   ]
  },
  {
   "cell_type": "code",
   "execution_count": 6,
   "metadata": {
    "collapsed": true
   },
   "outputs": [],
   "source": [
    "conn.execute(\"\"\"\n",
    "create index origin on ontime(origin);\n",
    "\"\"\")\n",
    "conn.commit()"
   ]
  },
  {
   "cell_type": "code",
   "execution_count": 8,
   "metadata": {
    "collapsed": true
   },
   "outputs": [],
   "source": [
    "conn.execute(\"\"\"\n",
    "create index dest on ontime(dest);\n",
    "\"\"\")\n",
    "conn.commit()"
   ]
  },
  {
   "cell_type": "code",
   "execution_count": 10,
   "metadata": {
    "collapsed": true
   },
   "outputs": [],
   "source": [
    "conn.close()"
   ]
  },
  {
   "cell_type": "markdown",
   "metadata": {},
   "source": [
    "# Airports"
   ]
  },
  {
   "cell_type": "code",
   "execution_count": 12,
   "metadata": {
    "collapsed": true
   },
   "outputs": [],
   "source": [
    "import sqlite3\n",
    "import csv\n",
    "conn = sqlite3.connect(\"databases/flights_full.sql\")"
   ]
  },
  {
   "cell_type": "code",
   "execution_count": 10,
   "metadata": {
    "collapsed": true
   },
   "outputs": [],
   "source": [
    "conn.execute(\"\"\"\n",
    "create table airports_all (\n",
    "  id int,\n",
    "  ident type varchar(20),\n",
    "  type varchar(20),\n",
    "  name varchar(50),\n",
    "  latitude_deg float,\n",
    "  longitude_deg float,\n",
    "  elevation_ft int,\n",
    "  continent varchar(2),\n",
    "  iso_country varchar(2),\n",
    "  iso_region varchar(5),\n",
    "  municipality varchar(40),\n",
    "  scheduled_service varchar(3),\n",
    "  gps_code varchar(5),\n",
    "  iata_code varchar(5),\n",
    "  local_code varchar(5),\n",
    "  home_link  varchar(255),\n",
    "  wikipedia_link varchar(255),\n",
    "  keywords varchar(255)\n",
    ");\n",
    "\"\"\")\n",
    "conn.commit()"
   ]
  },
  {
   "cell_type": "code",
   "execution_count": 11,
   "metadata": {},
   "outputs": [
    {
     "name": "stdout",
     "output_type": "stream",
     "text": [
      "Loading: data/airports.csv ...\n",
      "Done\n"
     ]
    }
   ],
   "source": [
    "filename = \"data_csv/airports.csv\"\n",
    "print(\"Loading: \"+filename+\" ...\")\n",
    "with open(filename, encoding='latin1') as f:\n",
    "#with open(filename, encoding='utf-8') as f:\n",
    "            reader = csv.reader(f)\n",
    "            next(reader, None)\n",
    "            for field in reader:\n",
    "                conn.execute(\"INSERT INTO airports_all VALUES (?,?,?,?,?,?,?,?,?,?,?,?,?,?,?,?,?,?);\"\n",
    "                            , field)\n",
    "print(\"Done\")\n",
    "conn.commit()"
   ]
  },
  {
   "cell_type": "code",
   "execution_count": 14,
   "metadata": {
    "collapsed": true
   },
   "outputs": [],
   "source": [
    "#conn.execute(\"\"\"\n",
    "#drop table airports\n",
    "#\"\"\")\n",
    "#conn.commit()"
   ]
  },
  {
   "cell_type": "code",
   "execution_count": 15,
   "metadata": {
    "collapsed": true
   },
   "outputs": [],
   "source": [
    "conn.execute(\"\"\"\n",
    "CREATE TABLE airports AS \n",
    "             SELECT iata_code as iata, iso_country AS country, name, latitude_deg, longitude_deg, elevation_ft \n",
    "             FROM airports_all \n",
    "             WHERE iata_code<>'' AND type == 'large_airport'\n",
    "\"\"\")\n",
    "conn.commit()"
   ]
  },
  {
   "cell_type": "code",
   "execution_count": 16,
   "metadata": {},
   "outputs": [
    {
     "data": {
      "text/plain": [
       "[('JFK',\n",
       "  'US',\n",
       "  'John F Kennedy International Airport',\n",
       "  40.63980103,\n",
       "  -73.77890015,\n",
       "  13)]"
      ]
     },
     "execution_count": 16,
     "metadata": {},
     "output_type": "execute_result"
    }
   ],
   "source": [
    "# test czy sie nie rozjechalo\n",
    "cur = conn.execute(\"SELECT * FROM airports Where iata = 'JFK'\")\n",
    "cur.fetchall()"
   ]
  }
 ],
 "metadata": {
  "kernelspec": {
   "display_name": "Python 3",
   "language": "python",
   "name": "python3"
  },
  "language_info": {
   "codemirror_mode": {
    "name": "ipython",
    "version": 3
   },
   "file_extension": ".py",
   "mimetype": "text/x-python",
   "name": "python",
   "nbconvert_exporter": "python",
   "pygments_lexer": "ipython3",
   "version": "3.6.3"
  }
 },
 "nbformat": 4,
 "nbformat_minor": 2
}
