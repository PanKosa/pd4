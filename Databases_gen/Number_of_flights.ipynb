{
 "cells": [
  {
   "cell_type": "code",
   "execution_count": 1,
   "metadata": {
    "collapsed": true
   },
   "outputs": [],
   "source": [
    "import sqlite3\n",
    "import csv\n",
    "conn = sqlite3.connect(\"/home/pkosewski/python/pd4/databases/flights_full.sql\")"
   ]
  },
  {
   "cell_type": "code",
   "execution_count": 1,
   "metadata": {
    "collapsed": true
   },
   "outputs": [],
   "source": [
    "#import sqlite3\n",
    "#import csv\n",
    "#conn = sqlite3.connect(\"/home/pkosewski/python/pd4/databases/processed.sql\")"
   ]
  },
  {
   "cell_type": "code",
   "execution_count": 4,
   "metadata": {
    "collapsed": true
   },
   "outputs": [],
   "source": [
    "conn.execute(\"\"\"\n",
    "CREATE TABLE num_filghts_d AS \n",
    "    SELECT ontime.year            AS year,\n",
    "            ontime.month          AS month,\n",
    "            ontime.DayofMonth     AS day,\n",
    "            origin.latitude_deg   AS origin_lat, \n",
    "            origin.longitude_deg  AS origin_lon, \n",
    "            origin.name           AS origin_name, \n",
    "            dest.latitude_deg     AS dest_lat, \n",
    "            dest.longitude_deg    AS dest_lon, \n",
    "            dest.name             AS dest_name, \n",
    "            Count(*)              AS number_of_flights \n",
    "    FROM ontime \n",
    "    LEFT JOIN airports AS origin ON ontime.Origin == origin.iata\n",
    "    LEFT JOIN airports AS dest   ON ontime.Dest   == dest.iata\n",
    "    GROUP BY ontime.year,\n",
    "            ontime.month,\n",
    "            ontime.DayofMonth,\n",
    "            ontime.Origin,\n",
    "            ontime.Dest;\n",
    "\"\"\")\n",
    "conn.commit()"
   ]
  },
  {
   "cell_type": "code",
   "execution_count": 7,
   "metadata": {
    "collapsed": true
   },
   "outputs": [],
   "source": [
    "conn.execute(\"\"\"\n",
    "CREATE TABLE num_filghts_m AS \n",
    "    SELECT ontime.year            AS year,\n",
    "            ontime.month          AS month,\n",
    "            origin.latitude_deg   AS origin_lat, \n",
    "            origin.longitude_deg  AS origin_lon, \n",
    "            origin.name           AS origin_name, \n",
    "            dest.latitude_deg     AS dest_lat, \n",
    "            dest.longitude_deg    AS dest_lon, \n",
    "            dest.name             AS dest_name, \n",
    "            Count(*)              AS number_of_flights \n",
    "    FROM ontime \n",
    "    LEFT JOIN airports AS origin ON ontime.Origin == origin.iata\n",
    "    LEFT JOIN airports AS dest   ON ontime.Dest   == dest.iata\n",
    "    GROUP BY ontime.year,\n",
    "            ontime.month,\n",
    "            ontime.Origin,\n",
    "            ontime.Dest;\n",
    "\"\"\")\n",
    "conn.commit()"
   ]
  },
  {
   "cell_type": "code",
   "execution_count": 10,
   "metadata": {},
   "outputs": [
    {
     "data": {
      "text/plain": [
       "[(1987,\n",
       "  10,\n",
       "  1,\n",
       "  40.652099609375,\n",
       "  -75.44080352783203,\n",
       "  'Lehigh Valley International Airport',\n",
       "  33.63669967651367,\n",
       "  -84.4281005859375,\n",
       "  'Hartsfield Jackson Atlanta International Airport',\n",
       "  2)]"
      ]
     },
     "execution_count": 10,
     "metadata": {},
     "output_type": "execute_result"
    }
   ],
   "source": [
    "cur = conn.execute(\"\"\"\n",
    "SELECT * FROM num_filghts_d LIMIT 1\n",
    "\"\"\")\n",
    "cur.fetchall()"
   ]
  },
  {
   "cell_type": "code",
   "execution_count": 11,
   "metadata": {},
   "outputs": [
    {
     "data": {
      "text/plain": [
       "[(1987,\n",
       "  10,\n",
       "  40.652099609375,\n",
       "  -75.44080352783203,\n",
       "  'Lehigh Valley International Airport',\n",
       "  33.63669967651367,\n",
       "  -84.4281005859375,\n",
       "  'Hartsfield Jackson Atlanta International Airport',\n",
       "  60)]"
      ]
     },
     "execution_count": 11,
     "metadata": {},
     "output_type": "execute_result"
    }
   ],
   "source": [
    "cur = conn.execute(\"\"\"\n",
    "SELECT * FROM num_filghts_m LIMIT 1\n",
    "\"\"\")\n",
    "cur.fetchall()"
   ]
  },
  {
   "cell_type": "code",
   "execution_count": 12,
   "metadata": {},
   "outputs": [
    {
     "data": {
      "text/plain": [
       "[(25352185,)]"
      ]
     },
     "execution_count": 12,
     "metadata": {},
     "output_type": "execute_result"
    }
   ],
   "source": [
    "cur = conn.execute(\"\"\"\n",
    "SELECT count(*) FROM num_filghts_d\n",
    "\"\"\")\n",
    "cur.fetchall()"
   ]
  },
  {
   "cell_type": "code",
   "execution_count": 13,
   "metadata": {},
   "outputs": [
    {
     "data": {
      "text/plain": [
       "[(861628,)]"
      ]
     },
     "execution_count": 13,
     "metadata": {},
     "output_type": "execute_result"
    }
   ],
   "source": [
    "cur = conn.execute(\"\"\"\n",
    "SELECT count(*) FROM num_filghts_m\n",
    "\"\"\")\n",
    "cur.fetchall()"
   ]
  },
  {
   "cell_type": "code",
   "execution_count": 14,
   "metadata": {},
   "outputs": [
    {
     "name": "stdout",
     "output_type": "stream",
     "text": [
      "[('ontime',), ('airports_all',), ('airports',), ('num_filghts_d',), ('num_filghts_m',)]\n"
     ]
    }
   ],
   "source": [
    "cursor = conn.cursor()\n",
    "cursor.execute(\"SELECT name FROM sqlite_master WHERE type='table';\")\n",
    "print(cursor.fetchall())"
   ]
  },
  {
   "cell_type": "code",
   "execution_count": 15,
   "metadata": {},
   "outputs": [
    {
     "ename": "MemoryError",
     "evalue": "",
     "output_type": "error",
     "traceback": [
      "\u001b[0;31m---------------------------------------------------------------------------\u001b[0m",
      "\u001b[0;31mMemoryError\u001b[0m                               Traceback (most recent call last)",
      "\u001b[0;32m<ipython-input-15-ec177d1830b4>\u001b[0m in \u001b[0;36m<module>\u001b[0;34m()\u001b[0m\n\u001b[1;32m      7\u001b[0m \u001b[0;34m\u001b[0m\u001b[0m\n\u001b[1;32m      8\u001b[0m \u001b[0;31m# Load the data into a DataFrame\u001b[0m\u001b[0;34m\u001b[0m\u001b[0;34m\u001b[0m\u001b[0m\n\u001b[0;32m----> 9\u001b[0;31m \u001b[0mdf\u001b[0m \u001b[0;34m=\u001b[0m \u001b[0mpd\u001b[0m\u001b[0;34m.\u001b[0m\u001b[0mread_sql_query\u001b[0m\u001b[0;34m(\u001b[0m\u001b[0;34m\"SELECT * from num_filghts_d\"\u001b[0m\u001b[0;34m,\u001b[0m \u001b[0mconn\u001b[0m\u001b[0;34m)\u001b[0m\u001b[0;34m\u001b[0m\u001b[0m\n\u001b[0m\u001b[1;32m     10\u001b[0m \u001b[0;34m\u001b[0m\u001b[0m\n\u001b[1;32m     11\u001b[0m \u001b[0;31m# Write the new DataFrame to a new SQLite table\u001b[0m\u001b[0;34m\u001b[0m\u001b[0;34m\u001b[0m\u001b[0m\n",
      "\u001b[0;32m~/anaconda3/lib/python3.6/site-packages/pandas/io/sql.py\u001b[0m in \u001b[0;36mread_sql_query\u001b[0;34m(sql, con, index_col, coerce_float, params, parse_dates, chunksize)\u001b[0m\n\u001b[1;32m    330\u001b[0m     return pandas_sql.read_query(\n\u001b[1;32m    331\u001b[0m         \u001b[0msql\u001b[0m\u001b[0;34m,\u001b[0m \u001b[0mindex_col\u001b[0m\u001b[0;34m=\u001b[0m\u001b[0mindex_col\u001b[0m\u001b[0;34m,\u001b[0m \u001b[0mparams\u001b[0m\u001b[0;34m=\u001b[0m\u001b[0mparams\u001b[0m\u001b[0;34m,\u001b[0m \u001b[0mcoerce_float\u001b[0m\u001b[0;34m=\u001b[0m\u001b[0mcoerce_float\u001b[0m\u001b[0;34m,\u001b[0m\u001b[0;34m\u001b[0m\u001b[0m\n\u001b[0;32m--> 332\u001b[0;31m         parse_dates=parse_dates, chunksize=chunksize)\n\u001b[0m\u001b[1;32m    333\u001b[0m \u001b[0;34m\u001b[0m\u001b[0m\n\u001b[1;32m    334\u001b[0m \u001b[0;34m\u001b[0m\u001b[0m\n",
      "\u001b[0;32m~/anaconda3/lib/python3.6/site-packages/pandas/io/sql.py\u001b[0m in \u001b[0;36mread_query\u001b[0;34m(self, sql, index_col, coerce_float, params, parse_dates, chunksize)\u001b[0m\n\u001b[1;32m   1451\u001b[0m             frame = _wrap_result(data, columns, index_col=index_col,\n\u001b[1;32m   1452\u001b[0m                                  \u001b[0mcoerce_float\u001b[0m\u001b[0;34m=\u001b[0m\u001b[0mcoerce_float\u001b[0m\u001b[0;34m,\u001b[0m\u001b[0;34m\u001b[0m\u001b[0m\n\u001b[0;32m-> 1453\u001b[0;31m                                  parse_dates=parse_dates)\n\u001b[0m\u001b[1;32m   1454\u001b[0m             \u001b[0;32mreturn\u001b[0m \u001b[0mframe\u001b[0m\u001b[0;34m\u001b[0m\u001b[0m\n\u001b[1;32m   1455\u001b[0m \u001b[0;34m\u001b[0m\u001b[0m\n",
      "\u001b[0;32m~/anaconda3/lib/python3.6/site-packages/pandas/io/sql.py\u001b[0m in \u001b[0;36m_wrap_result\u001b[0;34m(data, columns, index_col, coerce_float, parse_dates)\u001b[0m\n\u001b[1;32m    155\u001b[0m \u001b[0;34m\u001b[0m\u001b[0m\n\u001b[1;32m    156\u001b[0m     frame = DataFrame.from_records(data, columns=columns,\n\u001b[0;32m--> 157\u001b[0;31m                                    coerce_float=coerce_float)\n\u001b[0m\u001b[1;32m    158\u001b[0m \u001b[0;34m\u001b[0m\u001b[0m\n\u001b[1;32m    159\u001b[0m     \u001b[0m_parse_date_columns\u001b[0m\u001b[0;34m(\u001b[0m\u001b[0mframe\u001b[0m\u001b[0;34m,\u001b[0m \u001b[0mparse_dates\u001b[0m\u001b[0;34m)\u001b[0m\u001b[0;34m\u001b[0m\u001b[0m\n",
      "\u001b[0;32m~/anaconda3/lib/python3.6/site-packages/pandas/core/frame.py\u001b[0m in \u001b[0;36mfrom_records\u001b[0;34m(cls, data, index, exclude, columns, coerce_float, nrows)\u001b[0m\n\u001b[1;32m   1037\u001b[0m         \u001b[0;32melse\u001b[0m\u001b[0;34m:\u001b[0m\u001b[0;34m\u001b[0m\u001b[0m\n\u001b[1;32m   1038\u001b[0m             arrays, arr_columns = _to_arrays(data, columns,\n\u001b[0;32m-> 1039\u001b[0;31m                                              coerce_float=coerce_float)\n\u001b[0m\u001b[1;32m   1040\u001b[0m \u001b[0;34m\u001b[0m\u001b[0m\n\u001b[1;32m   1041\u001b[0m             \u001b[0marr_columns\u001b[0m \u001b[0;34m=\u001b[0m \u001b[0m_ensure_index\u001b[0m\u001b[0;34m(\u001b[0m\u001b[0marr_columns\u001b[0m\u001b[0;34m)\u001b[0m\u001b[0;34m\u001b[0m\u001b[0m\n",
      "\u001b[0;32m~/anaconda3/lib/python3.6/site-packages/pandas/core/frame.py\u001b[0m in \u001b[0;36m_to_arrays\u001b[0;34m(data, columns, coerce_float, dtype)\u001b[0m\n\u001b[1;32m   5615\u001b[0m     \u001b[0;32mif\u001b[0m \u001b[0misinstance\u001b[0m\u001b[0;34m(\u001b[0m\u001b[0mdata\u001b[0m\u001b[0;34m[\u001b[0m\u001b[0;36m0\u001b[0m\u001b[0;34m]\u001b[0m\u001b[0;34m,\u001b[0m \u001b[0;34m(\u001b[0m\u001b[0mlist\u001b[0m\u001b[0;34m,\u001b[0m \u001b[0mtuple\u001b[0m\u001b[0;34m)\u001b[0m\u001b[0;34m)\u001b[0m\u001b[0;34m:\u001b[0m\u001b[0;34m\u001b[0m\u001b[0m\n\u001b[1;32m   5616\u001b[0m         return _list_to_arrays(data, columns, coerce_float=coerce_float,\n\u001b[0;32m-> 5617\u001b[0;31m                                dtype=dtype)\n\u001b[0m\u001b[1;32m   5618\u001b[0m     \u001b[0;32melif\u001b[0m \u001b[0misinstance\u001b[0m\u001b[0;34m(\u001b[0m\u001b[0mdata\u001b[0m\u001b[0;34m[\u001b[0m\u001b[0;36m0\u001b[0m\u001b[0;34m]\u001b[0m\u001b[0;34m,\u001b[0m \u001b[0mcollections\u001b[0m\u001b[0;34m.\u001b[0m\u001b[0mMapping\u001b[0m\u001b[0;34m)\u001b[0m\u001b[0;34m:\u001b[0m\u001b[0;34m\u001b[0m\u001b[0m\n\u001b[1;32m   5619\u001b[0m         return _list_of_dict_to_arrays(data, columns,\n",
      "\u001b[0;32m~/anaconda3/lib/python3.6/site-packages/pandas/core/frame.py\u001b[0m in \u001b[0;36m_list_to_arrays\u001b[0;34m(data, columns, coerce_float, dtype)\u001b[0m\n\u001b[1;32m   5689\u001b[0m \u001b[0;32mdef\u001b[0m \u001b[0m_list_to_arrays\u001b[0m\u001b[0;34m(\u001b[0m\u001b[0mdata\u001b[0m\u001b[0;34m,\u001b[0m \u001b[0mcolumns\u001b[0m\u001b[0;34m,\u001b[0m \u001b[0mcoerce_float\u001b[0m\u001b[0;34m=\u001b[0m\u001b[0;32mFalse\u001b[0m\u001b[0;34m,\u001b[0m \u001b[0mdtype\u001b[0m\u001b[0;34m=\u001b[0m\u001b[0;32mNone\u001b[0m\u001b[0;34m)\u001b[0m\u001b[0;34m:\u001b[0m\u001b[0;34m\u001b[0m\u001b[0m\n\u001b[1;32m   5690\u001b[0m     \u001b[0;32mif\u001b[0m \u001b[0mlen\u001b[0m\u001b[0;34m(\u001b[0m\u001b[0mdata\u001b[0m\u001b[0;34m)\u001b[0m \u001b[0;34m>\u001b[0m \u001b[0;36m0\u001b[0m \u001b[0;32mand\u001b[0m \u001b[0misinstance\u001b[0m\u001b[0;34m(\u001b[0m\u001b[0mdata\u001b[0m\u001b[0;34m[\u001b[0m\u001b[0;36m0\u001b[0m\u001b[0;34m]\u001b[0m\u001b[0;34m,\u001b[0m \u001b[0mtuple\u001b[0m\u001b[0;34m)\u001b[0m\u001b[0;34m:\u001b[0m\u001b[0;34m\u001b[0m\u001b[0m\n\u001b[0;32m-> 5691\u001b[0;31m         \u001b[0mcontent\u001b[0m \u001b[0;34m=\u001b[0m \u001b[0mlist\u001b[0m\u001b[0;34m(\u001b[0m\u001b[0mlib\u001b[0m\u001b[0;34m.\u001b[0m\u001b[0mto_object_array_tuples\u001b[0m\u001b[0;34m(\u001b[0m\u001b[0mdata\u001b[0m\u001b[0;34m)\u001b[0m\u001b[0;34m.\u001b[0m\u001b[0mT\u001b[0m\u001b[0;34m)\u001b[0m\u001b[0;34m\u001b[0m\u001b[0m\n\u001b[0m\u001b[1;32m   5692\u001b[0m     \u001b[0;32melse\u001b[0m\u001b[0;34m:\u001b[0m\u001b[0;34m\u001b[0m\u001b[0m\n\u001b[1;32m   5693\u001b[0m         \u001b[0;31m# list of lists\u001b[0m\u001b[0;34m\u001b[0m\u001b[0;34m\u001b[0m\u001b[0m\n",
      "\u001b[0;32mpandas/_libs/src/inference.pyx\u001b[0m in \u001b[0;36mpandas._libs.lib.to_object_array_tuples\u001b[0;34m()\u001b[0m\n",
      "\u001b[0;31mMemoryError\u001b[0m: "
     ]
    }
   ],
   "source": [
    "# tabele wynikowe\n",
    "import pandas as pd\n",
    "import sqlite3\n",
    "\n",
    "conn_processed = sqlite3.connect(\"/home/pkosewski/python/pd4/databases/processed.sql\")\n",
    "conn           = sqlite3.connect(\"/home/pkosewski/python/pd4/databases/flights_full.sql\")\n",
    "\n",
    "# Load the data into a DataFrame\n",
    "df = pd.read_sql_query(\"SELECT * from num_filghts_d\", conn)\n",
    "\n",
    "# Write the new DataFrame to a new SQLite table\n",
    "df.to_sql(\"num_filghts_d\", conn_processed, if_exists=\"replace\")\n",
    "\n",
    "conn.close()\n",
    "conn_processed.close()"
   ]
  },
  {
   "cell_type": "code",
   "execution_count": 16,
   "metadata": {
    "collapsed": true
   },
   "outputs": [],
   "source": [
    "# tabele wynikowe\n",
    "import pandas as pd\n",
    "import sqlite3\n",
    "\n",
    "conn_processed = sqlite3.connect(\"/home/pkosewski/python/pd4/databases/processed.sql\")\n",
    "conn           = sqlite3.connect(\"/home/pkosewski/python/pd4/databases/flights_full.sql\")\n",
    "\n",
    "# Load the data into a DataFrame\n",
    "df = pd.read_sql_query(\"SELECT * from num_filghts_m\", conn)\n",
    "\n",
    "# Write the new DataFrame to a new SQLite table\n",
    "df.to_sql(\"num_filghts_m\", conn_processed, if_exists=\"replace\")\n",
    "\n",
    "conn.close()\n",
    "conn_processed.close()"
   ]
  },
  {
   "cell_type": "code",
   "execution_count": 2,
   "metadata": {},
   "outputs": [
    {
     "data": {
      "text/plain": [
       "[(9103,)]"
      ]
     },
     "execution_count": 2,
     "metadata": {},
     "output_type": "execute_result"
    }
   ],
   "source": [
    "cur = conn.execute(\"\"\"\n",
    "SELECT COUNT(*) FROM airports\n",
    "\"\"\")\n",
    "cur.fetchall()"
   ]
  },
  {
   "cell_type": "markdown",
   "metadata": {},
   "source": [
    "# Mean departure delay"
   ]
  },
  {
   "cell_type": "code",
   "execution_count": 4,
   "metadata": {
    "collapsed": true
   },
   "outputs": [],
   "source": [
    "conn.execute(\"\"\"\n",
    "CREATE TABLE US_filghts_dep_delay AS \n",
    "    SELECT ontime.year                              AS year,\n",
    "            ontime.month                            AS month,\n",
    "            origin.latitude_deg                     AS origin_lat, \n",
    "            origin.longitude_deg                    AS origin_lon, \n",
    "            origin.name                             AS origin_name, \n",
    "            ontime.Origin                           AS origin_id, \n",
    "            dest.latitude_deg                       AS dest_lat, \n",
    "            dest.longitude_deg                      AS dest_lon, \n",
    "            dest.name                               AS dest_name,\n",
    "            ontime.Dest                             AS dest_id, \n",
    "            AVG(ontime.DepDelay)                    AS DepDelay, \n",
    "            AVG(ontime.ArrDelay - ontime.DepDelay)  AS delay_gain \n",
    "    FROM ontime \n",
    "    LEFT JOIN airports AS origin ON ontime.Origin == origin.iata\n",
    "    LEFT JOIN airports AS dest   ON ontime.Dest   == dest.iata\n",
    "    WHERE origin.country == 'US' AND dest.country == 'US' \n",
    "    GROUP BY ontime.year,\n",
    "            ontime.month,\n",
    "            ontime.Origin,\n",
    "            ontime.Dest\n",
    "\"\"\")\n",
    "conn.commit()"
   ]
  },
  {
   "cell_type": "code",
   "execution_count": 5,
   "metadata": {},
   "outputs": [
    {
     "data": {
      "text/plain": [
       "[(680007,)]"
      ]
     },
     "execution_count": 5,
     "metadata": {},
     "output_type": "execute_result"
    }
   ],
   "source": [
    "cur = conn.execute(\"\"\"\n",
    "SELECT COUNT(*) FROM US_filghts_dep_delay\n",
    "\"\"\")\n",
    "cur.fetchall()"
   ]
  },
  {
   "cell_type": "code",
   "execution_count": 6,
   "metadata": {},
   "outputs": [
    {
     "data": {
      "text/plain": [
       "[(82297,)]"
      ]
     },
     "execution_count": 6,
     "metadata": {},
     "output_type": "execute_result"
    }
   ],
   "source": [
    "cur = conn.execute(\"\"\"\n",
    "SELECT COUNT(*) FROM US_filghts_dep_delay where DepDelay > 15\n",
    "\"\"\")\n",
    "cur.fetchall()"
   ]
  },
  {
   "cell_type": "code",
   "execution_count": 8,
   "metadata": {},
   "outputs": [
    {
     "data": {
      "text/plain": [
       "[(133,)]"
      ]
     },
     "execution_count": 8,
     "metadata": {},
     "output_type": "execute_result"
    }
   ],
   "source": [
    "cur = conn.execute(\"\"\"\n",
    "Select count(*) From (\n",
    "           SELECT origin_name FROM US_filghts_dep_delay group by origin_name\n",
    "           )\n",
    "\"\"\")\n",
    "cur.fetchall()"
   ]
  },
  {
   "cell_type": "code",
   "execution_count": 3,
   "metadata": {
    "collapsed": true
   },
   "outputs": [],
   "source": [
    "conn.execute(\"\"\"\n",
    "CREATE TABLE US_filghts_dep_delay_Y AS \n",
    "    SELECT ontime.year                              AS year,\n",
    "            origin.latitude_deg                     AS origin_lat, \n",
    "            origin.longitude_deg                    AS origin_lon, \n",
    "            origin.name                             AS origin_name, \n",
    "            ontime.Origin                           AS origin_id, \n",
    "            dest.latitude_deg                       AS dest_lat, \n",
    "            dest.longitude_deg                      AS dest_lon, \n",
    "            dest.name                               AS dest_name,\n",
    "            ontime.Dest                             AS dest_id,\n",
    "            COUNT(*)                                AS number_of_flights,\n",
    "            SUM(ontime.DepDelay > 15)               AS delay_over_15,\n",
    "            AVG(ontime.DepDelay)                    AS DepDelay, \n",
    "            AVG(ontime.ArrDelay - ontime.DepDelay)  AS delay_gain \n",
    "    FROM ontime \n",
    "    LEFT JOIN airports AS origin ON ontime.Origin == origin.iata\n",
    "    LEFT JOIN airports AS dest   ON ontime.Dest   == dest.iata\n",
    "    WHERE origin.country == 'US' AND dest.country == 'US' \n",
    "    GROUP BY ontime.year,\n",
    "            ontime.Origin,\n",
    "            ontime.Dest\n",
    "\"\"\")\n",
    "conn.commit()"
   ]
  },
  {
   "cell_type": "code",
   "execution_count": 2,
   "metadata": {
    "collapsed": true
   },
   "outputs": [],
   "source": [
    "conn.execute(\"\"\"\n",
    "DROP TABLE US_filghts_dep_delay_Y \n",
    "\"\"\")\n",
    "conn.commit()"
   ]
  },
  {
   "cell_type": "code",
   "execution_count": 4,
   "metadata": {},
   "outputs": [
    {
     "data": {
      "text/plain": [
       "[(2000,\n",
       "  33.63669967651367,\n",
       "  -84.4281005859375,\n",
       "  'Hartsfield Jackson Atlanta International Airport',\n",
       "  'ATL',\n",
       "  40.63980103,\n",
       "  -73.77890015,\n",
       "  'John F Kennedy International Airport',\n",
       "  'JFK',\n",
       "  1205,\n",
       "  238,\n",
       "  12.774273858921163,\n",
       "  0.13692946058091288),\n",
       " (2000,\n",
       "  41.9388999939,\n",
       "  -72.68319702149999,\n",
       "  'Bradley International Airport',\n",
       "  'BDL',\n",
       "  40.63980103,\n",
       "  -73.77890015,\n",
       "  'John F Kennedy International Airport',\n",
       "  'JFK',\n",
       "  175,\n",
       "  25,\n",
       "  0.9485714285714286,\n",
       "  12.742857142857142),\n",
       " (2000,\n",
       "  42.36429977,\n",
       "  -71.00520325,\n",
       "  'General Edward Lawrence Logan International Airport',\n",
       "  'BOS',\n",
       "  40.63980103,\n",
       "  -73.77890015,\n",
       "  'John F Kennedy International Airport',\n",
       "  'JFK',\n",
       "  1997,\n",
       "  566,\n",
       "  13.111166750125188,\n",
       "  1.3475212819228843),\n",
       " (2000,\n",
       "  39.0488014221,\n",
       "  -84.6678009033,\n",
       "  'Cincinnati Northern Kentucky International Airport',\n",
       "  'CVG',\n",
       "  40.63980103,\n",
       "  -73.77890015,\n",
       "  'John F Kennedy International Airport',\n",
       "  'JFK',\n",
       "  830,\n",
       "  151,\n",
       "  12.398795180722892,\n",
       "  2.4542168674698797),\n",
       " (2000,\n",
       "  38.8521,\n",
       "  -77.037697,\n",
       "  'Ronald Reagan Washington National Airport',\n",
       "  'DCA',\n",
       "  40.63980103,\n",
       "  -73.77890015,\n",
       "  'John F Kennedy International Airport',\n",
       "  'JFK',\n",
       "  703,\n",
       "  126,\n",
       "  9.812233285917497,\n",
       "  -0.051209103840682786),\n",
       " (2000,\n",
       "  39.861698150635,\n",
       "  -104.672996521,\n",
       "  'Denver International Airport',\n",
       "  'DEN',\n",
       "  40.63980103,\n",
       "  -73.77890015,\n",
       "  'John F Kennedy International Airport',\n",
       "  'JFK',\n",
       "  364,\n",
       "  71,\n",
       "  10.219780219780219,\n",
       "  -4.271978021978022),\n",
       " (2000,\n",
       "  32.89680099487305,\n",
       "  -97.03800201416016,\n",
       "  'Dallas Fort Worth International Airport',\n",
       "  'DFW',\n",
       "  40.63980103,\n",
       "  -73.77890015,\n",
       "  'John F Kennedy International Airport',\n",
       "  'JFK',\n",
       "  730,\n",
       "  138,\n",
       "  10.094520547945205,\n",
       "  -3.5931506849315067),\n",
       " (2000,\n",
       "  42.212398529052734,\n",
       "  -83.35340118408203,\n",
       "  'Detroit Metropolitan Wayne County Airport',\n",
       "  'DTW',\n",
       "  40.63980103,\n",
       "  -73.77890015,\n",
       "  'John F Kennedy International Airport',\n",
       "  'JFK',\n",
       "  1413,\n",
       "  381,\n",
       "  12.615003538570418,\n",
       "  -2.6581740976645434),\n",
       " (2000,\n",
       "  26.072599411010742,\n",
       "  -80.15270233154297,\n",
       "  'Fort Lauderdale Hollywood International Airport',\n",
       "  'FLL',\n",
       "  40.63980103,\n",
       "  -73.77890015,\n",
       "  'John F Kennedy International Airport',\n",
       "  'JFK',\n",
       "  1241,\n",
       "  320,\n",
       "  15.622078968573732,\n",
       "  -4.9411764705882355),\n",
       " (2000,\n",
       "  29.984399795532227,\n",
       "  -95.34140014648438,\n",
       "  'George Bush Intercontinental Houston Airport',\n",
       "  'IAH',\n",
       "  40.63980103,\n",
       "  -73.77890015,\n",
       "  'John F Kennedy International Airport',\n",
       "  'JFK',\n",
       "  360,\n",
       "  51,\n",
       "  6.677777777777778,\n",
       "  -9.241666666666667),\n",
       " (2000,\n",
       "  36.08010101,\n",
       "  -115.1520004,\n",
       "  'McCarran International Airport',\n",
       "  'LAS',\n",
       "  40.63980103,\n",
       "  -73.77890015,\n",
       "  'John F Kennedy International Airport',\n",
       "  'JFK',\n",
       "  2282,\n",
       "  747,\n",
       "  17.27344434706398,\n",
       "  1.2414548641542507),\n",
       " (2000,\n",
       "  33.94250107,\n",
       "  -118.4079971,\n",
       "  'Los Angeles International Airport',\n",
       "  'LAX',\n",
       "  40.63980103,\n",
       "  -73.77890015,\n",
       "  'John F Kennedy International Airport',\n",
       "  'JFK',\n",
       "  9271,\n",
       "  1981,\n",
       "  11.380002157264588,\n",
       "  -1.9319383022327687),\n",
       " (2000,\n",
       "  28.429399490356445,\n",
       "  -81.30899810791016,\n",
       "  'Orlando International Airport',\n",
       "  'MCO',\n",
       "  40.63980103,\n",
       "  -73.77890015,\n",
       "  'John F Kennedy International Airport',\n",
       "  'JFK',\n",
       "  2329,\n",
       "  399,\n",
       "  10.436668097896092,\n",
       "  -2.6848432803778444),\n",
       " (2000,\n",
       "  25.79319953918457,\n",
       "  -80.29060363769531,\n",
       "  'Miami International Airport',\n",
       "  'MIA',\n",
       "  40.63980103,\n",
       "  -73.77890015,\n",
       "  'John F Kennedy International Airport',\n",
       "  'JFK',\n",
       "  3271,\n",
       "  744,\n",
       "  16.9040048914705,\n",
       "  -3.7380006114338125),\n",
       " (2000,\n",
       "  44.881999969499994,\n",
       "  -93.22180175780001,\n",
       "  'Minneapolis-St Paul International/Wold-Chamberlain Airport',\n",
       "  'MSP',\n",
       "  40.63980103,\n",
       "  -73.77890015,\n",
       "  'John F Kennedy International Airport',\n",
       "  'JFK',\n",
       "  245,\n",
       "  58,\n",
       "  9.43673469387755,\n",
       "  3.583673469387755),\n",
       " (2000,\n",
       "  29.99340057373047,\n",
       "  -90.25800323486328,\n",
       "  'Louis Armstrong New Orleans International Airport',\n",
       "  'MSY',\n",
       "  40.63980103,\n",
       "  -73.77890015,\n",
       "  'John F Kennedy International Airport',\n",
       "  'JFK',\n",
       "  351,\n",
       "  40,\n",
       "  6.823361823361823,\n",
       "  -2.6381766381766383),\n",
       " (2000,\n",
       "  41.97859955,\n",
       "  -87.90480042,\n",
       "  \"Chicago O'Hare International Airport\",\n",
       "  'ORD',\n",
       "  40.63980103,\n",
       "  -73.77890015,\n",
       "  'John F Kennedy International Airport',\n",
       "  'JFK',\n",
       "  323,\n",
       "  74,\n",
       "  13.13312693498452,\n",
       "  -9.532507739938081),\n",
       " (2000,\n",
       "  26.68320083618164,\n",
       "  -80.09559631347656,\n",
       "  'Palm Beach International Airport',\n",
       "  'PBI',\n",
       "  40.63980103,\n",
       "  -73.77890015,\n",
       "  'John F Kennedy International Airport',\n",
       "  'JFK',\n",
       "  333,\n",
       "  60,\n",
       "  9.42042042042042,\n",
       "  -2.3633633633633635),\n",
       " (2000,\n",
       "  45.58869934,\n",
       "  -122.5979996,\n",
       "  'Portland International Airport',\n",
       "  'PDX',\n",
       "  40.63980103,\n",
       "  -73.77890015,\n",
       "  'John F Kennedy International Airport',\n",
       "  'JFK',\n",
       "  364,\n",
       "  28,\n",
       "  2.340659340659341,\n",
       "  -4.082417582417582),\n",
       " (2000,\n",
       "  39.87189865112305,\n",
       "  -75.24109649658203,\n",
       "  'Philadelphia International Airport',\n",
       "  'PHL',\n",
       "  40.63980103,\n",
       "  -73.77890015,\n",
       "  'John F Kennedy International Airport',\n",
       "  'JFK',\n",
       "  295,\n",
       "  63,\n",
       "  4.779661016949152,\n",
       "  2.23728813559322),\n",
       " (2000,\n",
       "  33.43429946899414,\n",
       "  -112.01200103759766,\n",
       "  'Phoenix Sky Harbor International Airport',\n",
       "  'PHX',\n",
       "  40.63980103,\n",
       "  -73.77890015,\n",
       "  'John F Kennedy International Airport',\n",
       "  'JFK',\n",
       "  1456,\n",
       "  387,\n",
       "  14.86195054945055,\n",
       "  0.885989010989011),\n",
       " (2000,\n",
       "  32.7336006165,\n",
       "  -117.190002441,\n",
       "  'San Diego International Airport',\n",
       "  'SAN',\n",
       "  40.63980103,\n",
       "  -73.77890015,\n",
       "  'John F Kennedy International Airport',\n",
       "  'JFK',\n",
       "  856,\n",
       "  93,\n",
       "  5.807242990654205,\n",
       "  -7.26285046728972),\n",
       " (2000,\n",
       "  29.533700942993164,\n",
       "  -98.46980285644531,\n",
       "  'San Antonio International Airport',\n",
       "  'SAT',\n",
       "  40.63980103,\n",
       "  -73.77890015,\n",
       "  'John F Kennedy International Airport',\n",
       "  'JFK',\n",
       "  1,\n",
       "  1,\n",
       "  169.0,\n",
       "  26.0),\n",
       " (2000,\n",
       "  47.44900131225586,\n",
       "  -122.30899810791016,\n",
       "  'Seattle Tacoma International Airport',\n",
       "  'SEA',\n",
       "  40.63980103,\n",
       "  -73.77890015,\n",
       "  'John F Kennedy International Airport',\n",
       "  'JFK',\n",
       "  916,\n",
       "  99,\n",
       "  5.348253275109171,\n",
       "  -4.291484716157205),\n",
       " (2000,\n",
       "  37.61899948120117,\n",
       "  -122.375,\n",
       "  'San Francisco International Airport',\n",
       "  'SFO',\n",
       "  40.63980103,\n",
       "  -73.77890015,\n",
       "  'John F Kennedy International Airport',\n",
       "  'JFK',\n",
       "  5929,\n",
       "  1152,\n",
       "  10.4860853432282,\n",
       "  -2.953280485748018),\n",
       " (2000,\n",
       "  37.362598,\n",
       "  -121.929001,\n",
       "  'Norman Y. Mineta San Jose International Airport',\n",
       "  'SJC',\n",
       "  40.63980103,\n",
       "  -73.77890015,\n",
       "  'John F Kennedy International Airport',\n",
       "  'JFK',\n",
       "  762,\n",
       "  118,\n",
       "  6.405511811023622,\n",
       "  -6.384514435695538),\n",
       " (2000,\n",
       "  40.78839874267578,\n",
       "  -111.97799682617188,\n",
       "  'Salt Lake City International Airport',\n",
       "  'SLC',\n",
       "  40.63980103,\n",
       "  -73.77890015,\n",
       "  'John F Kennedy International Airport',\n",
       "  'JFK',\n",
       "  973,\n",
       "  119,\n",
       "  7.324768756423433,\n",
       "  -0.49743062692702983),\n",
       " (2000,\n",
       "  33.67570114,\n",
       "  -117.8679962,\n",
       "  'John Wayne Airport-Orange County Airport',\n",
       "  'SNA',\n",
       "  40.63980103,\n",
       "  -73.77890015,\n",
       "  'John F Kennedy International Airport',\n",
       "  'JFK',\n",
       "  60,\n",
       "  6,\n",
       "  4.0,\n",
       "  1.6666666666666667),\n",
       " (2000,\n",
       "  38.748697,\n",
       "  -90.370003,\n",
       "  'St Louis Lambert International Airport',\n",
       "  'STL',\n",
       "  40.63980103,\n",
       "  -73.77890015,\n",
       "  'John F Kennedy International Airport',\n",
       "  'JFK',\n",
       "  1483,\n",
       "  374,\n",
       "  14.23937963587323,\n",
       "  -2.186109238031018),\n",
       " (2000,\n",
       "  27.975500106811523,\n",
       "  -82.533203125,\n",
       "  'Tampa International Airport',\n",
       "  'TPA',\n",
       "  40.63980103,\n",
       "  -73.77890015,\n",
       "  'John F Kennedy International Airport',\n",
       "  'JFK',\n",
       "  702,\n",
       "  102,\n",
       "  9.217948717948717,\n",
       "  -2.685185185185185)]"
      ]
     },
     "execution_count": 4,
     "metadata": {},
     "output_type": "execute_result"
    }
   ],
   "source": [
    "cur = conn.execute(\"\"\"\n",
    "SELECT * FROM US_filghts_dep_delay_Y where year == 2000 AND dest_id == 'JFK'\n",
    "\"\"\")\n",
    "cur.fetchall()"
   ]
  },
  {
   "cell_type": "code",
   "execution_count": 10,
   "metadata": {},
   "outputs": [
    {
     "data": {
      "text/plain": [
       "[('AMA', 'Rick Husband Amarillo International Airport'),\n",
       " ('BFI', 'Boeing Field King County International Airport'),\n",
       " ('CBM', 'Columbus Air Force Base'),\n",
       " ('CHS', 'Charleston Air Force Base-International Airport'),\n",
       " ('GRB', 'Austin Straubel International Airport'),\n",
       " ('LBB', 'Lubbock Preston Smith International Airport'),\n",
       " ('MCI', 'Kansas City International Airport'),\n",
       " ('MGM', 'Montgomery Regional (Dannelly Field) Airport'),\n",
       " ('MSN', 'Dane County Regional Truax Field'),\n",
       " ('OKC', 'Will Rogers World Airport'),\n",
       " ('PIA', 'General Wayne A. Downing Peoria International Airport'),\n",
       " ('RFD', 'Chicago Rockford International Airport'),\n",
       " ('SAV', 'Savannah Hilton Head International Airport'),\n",
       " ('SKA', 'Fairchild Air Force Base'),\n",
       " ('SPI', 'Abraham Lincoln Capital Airport'),\n",
       " ('LGA', 'La Guardia Airport'),\n",
       " ('AUS', 'Austin Bergstrom International Airport'),\n",
       " ('DSM', 'Des Moines International Airport'),\n",
       " ('AGS', 'Augusta Regional At Bush Field'),\n",
       " ('BGR', 'Bangor International Airport'),\n",
       " ('SRQ', 'Sarasota Bradenton International Airport'),\n",
       " ('TRI', 'Tri-Cities Regional TN/VA Airport'),\n",
       " ('HNL', 'Daniel K Inouye International Airport'),\n",
       " ('FAI', 'Fairbanks International Airport'),\n",
       " ('PHF', 'Newport News Williamsburg International Airport'),\n",
       " ('IAD', 'Washington Dulles International Airport'),\n",
       " ('CVG', 'Cincinnati Northern Kentucky International Airport'),\n",
       " ('SUX', 'Sioux Gateway Col. Bud Day Field'),\n",
       " ('MCO', 'Orlando International Airport'),\n",
       " ('JFK', 'John F Kennedy International Airport'),\n",
       " ('GEG', 'Spokane International Airport'),\n",
       " ('DAB', 'Daytona Beach International Airport'),\n",
       " ('HTS', 'Tri-State/Milton J. Ferguson Field'),\n",
       " ('MKE', 'General Mitchell International Airport'),\n",
       " ('DAY', 'James M Cox Dayton International Airport'),\n",
       " ('CLT', 'Charlotte Douglas International Airport'),\n",
       " ('MOB', 'Mobile Regional Airport'),\n",
       " ('JAN', 'Jackson-Medgar Wiley Evers International Airport'),\n",
       " ('SHV', 'Shreveport Regional Airport'),\n",
       " ('BTR', 'Baton Rouge Metropolitan, Ryan Field'),\n",
       " ('RNO', 'Reno Tahoe International Airport'),\n",
       " ('ORD', \"Chicago O'Hare International Airport\"),\n",
       " ('VPS', 'Destin-Ft Walton Beach Airport'),\n",
       " ('SAT', 'San Antonio International Airport'),\n",
       " ('TLH', 'Tallahassee Regional Airport'),\n",
       " ('TPA', 'Tampa International Airport'),\n",
       " ('SNA', 'John Wayne Airport-Orange County Airport'),\n",
       " ('OAK', 'Metropolitan Oakland International Airport'),\n",
       " ('SYR', 'Syracuse Hancock International Airport'),\n",
       " ('PWM', 'Portland International Jetport Airport'),\n",
       " ('AVL', 'Asheville Regional Airport'),\n",
       " ('MSP', 'Minneapolis-St Paul International/Wold-Chamberlain Airport'),\n",
       " ('SFO', 'San Francisco International Airport'),\n",
       " ('GPT', 'Gulfport Biloxi International Airport'),\n",
       " ('ORF', 'Norfolk International Airport'),\n",
       " ('ROC', 'Greater Rochester International Airport'),\n",
       " ('SGF', 'Springfield Branson National Airport'),\n",
       " ('RIC', 'Richmond International Airport'),\n",
       " ('RSW', 'Southwest Florida International Airport'),\n",
       " ('IAH', 'George Bush Intercontinental Houston Airport'),\n",
       " ('COS', 'City of Colorado Springs Municipal Airport'),\n",
       " ('SEA', 'Seattle Tacoma International Airport'),\n",
       " ('SMF', 'Sacramento International Airport'),\n",
       " ('TUS', 'Tucson International Airport'),\n",
       " ('ONT', 'Ontario International Airport'),\n",
       " ('ANC', 'Ted Stevens Anchorage International Airport'),\n",
       " ('FSM', 'Fort Smith Regional Airport'),\n",
       " ('SDF', 'Louisville International Standiford Field'),\n",
       " ('CLE', 'Cleveland Hopkins International Airport'),\n",
       " ('DEN', 'Denver International Airport'),\n",
       " ('HSV', 'Huntsville International Carl T Jones Field'),\n",
       " ('ROA', 'Roanokeâ\\x80\\x93Blacksburg Regional Airport'),\n",
       " ('MLU', 'Monroe Regional Airport'),\n",
       " ('EWR', 'Newark Liberty International Airport'),\n",
       " ('LIT', 'Bill & Hillary Clinton National Airport/Adams Field'),\n",
       " ('ICT', 'Wichita Mid Continent Airport'),\n",
       " ('CRW', 'Yeager Airport'),\n",
       " ('ABQ', 'Albuquerque International Sunport Airport'),\n",
       " ('MDW', 'Chicago Midway International Airport'),\n",
       " ('BUF', 'Buffalo Niagara International Airport'),\n",
       " ('MHT', 'Manchester Airport'),\n",
       " ('CHA', 'Lovell Field'),\n",
       " ('CRP', 'Corpus Christi International Airport'),\n",
       " ('GSO', 'Piedmont Triad International Airport'),\n",
       " ('STL', 'St Louis Lambert International Airport'),\n",
       " ('TUL', 'Tulsa International Airport'),\n",
       " ('CMH', 'Port Columbus International Airport'),\n",
       " ('CPR', 'Casper-Natrona County International Airport'),\n",
       " ('JAX', 'Jacksonville International Airport'),\n",
       " ('MEM', 'Memphis International Airport'),\n",
       " ('BHM', 'Birmingham-Shuttlesworth International Airport'),\n",
       " ('RDU', 'Raleigh Durham International Airport'),\n",
       " ('MSY', 'Louis Armstrong New Orleans International Airport'),\n",
       " ('PIT', 'Pittsburgh International Airport'),\n",
       " ('BDL', 'Bradley International Airport'),\n",
       " ('DLH', 'Duluth International Airport'),\n",
       " ('HOU', 'William P Hobby Airport'),\n",
       " ('GSP', 'Greenville Spartanburg International Airport'),\n",
       " ('TOL', 'Toledo Express Airport'),\n",
       " ('MBS', 'MBS International Airport'),\n",
       " ('DBQ', 'Dubuque Regional Airport'),\n",
       " ('PBI', 'Palm Beach International Airport'),\n",
       " ('CAE', 'Columbia Metropolitan Airport'),\n",
       " ('ERI', 'Erie International Tom Ridge Field'),\n",
       " ('SAN', 'San Diego International Airport'),\n",
       " ('PDX', 'Portland International Airport'),\n",
       " ('DTW', 'Detroit Metropolitan Wayne County Airport'),\n",
       " ('SLC', 'Salt Lake City International Airport'),\n",
       " ('DCA', 'Ronald Reagan Washington National Airport'),\n",
       " ('IND', 'Indianapolis International Airport'),\n",
       " ('BNA', 'Nashville International Airport'),\n",
       " ('BOS', 'General Edward Lawrence Logan International Airport'),\n",
       " ('MIA', 'Miami International Airport'),\n",
       " ('SPS', 'Sheppard Air Force Base-Wichita Falls Municipal Airport'),\n",
       " ('BIL', 'Billings Logan International Airport'),\n",
       " ('LEX', 'Blue Grass Airport'),\n",
       " ('DFW', 'Dallas Fort Worth International Airport'),\n",
       " ('BMI', 'Central Illinois Regional Airport at Bloomington-Normal'),\n",
       " ('TYS', 'McGhee Tyson Airport'),\n",
       " ('LAS', 'McCarran International Airport'),\n",
       " ('SBN', 'South Bend Regional Airport'),\n",
       " ('DAL', 'Dallas Love Field'),\n",
       " ('RST', 'Rochester International Airport'),\n",
       " ('MLI', 'Quad City International Airport'),\n",
       " ('LFT', 'Lafayette Regional Airport'),\n",
       " ('FWA', 'Fort Wayne International Airport'),\n",
       " ('ATL', 'Hartsfield Jackson Atlanta International Airport'),\n",
       " ('FLL', 'Fort Lauderdale Hollywood International Airport'),\n",
       " ('BOI', 'Boise Air Terminal/Gowen field'),\n",
       " ('PHL', 'Philadelphia International Airport'),\n",
       " ('BWI', 'Baltimore/Washington International Thurgood Marshall Airport'),\n",
       " ('PHX', 'Phoenix Sky Harbor International Airport'),\n",
       " ('CID', 'The Eastern Iowa Airport'),\n",
       " ('LAX', 'Los Angeles International Airport'),\n",
       " ('SJC', 'Norman Y. Mineta San Jose International Airport')]"
      ]
     },
     "execution_count": 10,
     "metadata": {},
     "output_type": "execute_result"
    }
   ],
   "source": [
    "cur = conn.execute(\"\"\"\n",
    "SELECT dest_id, dest_name FROM US_filghts_dep_delay_Y group by dest_id order by number_of_flights\n",
    "\"\"\")\n",
    "cur.fetchall()"
   ]
  },
  {
   "cell_type": "code",
   "execution_count": 5,
   "metadata": {
    "collapsed": true
   },
   "outputs": [],
   "source": [
    "# tabele wynikowe\n",
    "import pandas as pd\n",
    "import sqlite3\n",
    "\n",
    "conn_processed = sqlite3.connect(\"/home/pkosewski/python/pd4/databases/map.sql\")\n",
    "conn           = sqlite3.connect(\"/home/pkosewski/python/pd4/databases/flights_full.sql\")\n",
    "\n",
    "# Load the data into a DataFrame\n",
    "df = pd.read_sql_query(\"SELECT * from airports\", conn)\n",
    "\n",
    "# Write the new DataFrame to a new SQLite table\n",
    "df.to_sql(\"airports\", conn_processed, if_exists=\"replace\")\n",
    "\n",
    "conn.close()\n",
    "conn_processed.close()"
   ]
  },
  {
   "cell_type": "code",
   "execution_count": 4,
   "metadata": {},
   "outputs": [
    {
     "data": {
      "text/plain": [
       "[(64078,)]"
      ]
     },
     "execution_count": 4,
     "metadata": {},
     "output_type": "execute_result"
    }
   ],
   "source": [
    "import pandas as pd\n",
    "import sqlite3\n",
    "\n",
    "conn = sqlite3.connect(\"/home/pkosewski/python/pd4/databases/map.sql\")\n",
    "\n",
    "\n",
    "cur = conn.execute(\"\"\"\n",
    "SELECT count(*) FROM US_filghts_dep_delay_Y\n",
    "\"\"\")\n",
    "cur.fetchall()"
   ]
  },
  {
   "cell_type": "markdown",
   "metadata": {},
   "source": [
    "# Daily patterns\n"
   ]
  },
  {
   "cell_type": "code",
   "execution_count": 1,
   "metadata": {
    "collapsed": true
   },
   "outputs": [],
   "source": [
    "import pandas as pd\n",
    "import sqlite3\n",
    "\n",
    "conn_processed = sqlite3.connect(\"/home/pkosewski/python/pd4/databases/processed.sql\")\n",
    "conn           = sqlite3.connect(\"/home/pkosewski/python/pd4/databases/flights_full.sql\")\n"
   ]
  },
  {
   "cell_type": "code",
   "execution_count": 5,
   "metadata": {
    "collapsed": true
   },
   "outputs": [],
   "source": [
    "conn.execute(\"\"\"\n",
    "DROP TABLE Arr_Delays_vs_time_h\n",
    "\"\"\")\n",
    "conn.commit()"
   ]
  },
  {
   "cell_type": "code",
   "execution_count": 7,
   "metadata": {
    "collapsed": true
   },
   "outputs": [],
   "source": [
    "conn.execute(\"\"\"\n",
    "CREATE TABLE Arr_Delays_vs_time_h AS \n",
    "    SELECT  CASE \n",
    "               WHEN ontime.DepTime == 2400 \n",
    "                  THEN 0\n",
    "                  ELSE ontime.DepTime \n",
    "            END                                     AS time,\n",
    "            ontime.UniqueCarrier                    AS UniqueCarrier, \n",
    "            COUNT(*)                                AS number_of_flights,\n",
    "            AVG(ontime.DepDelay)                    AS DepDelay, \n",
    "            AVG(ontime.ArrDelay)                    AS ArrDelay \n",
    "    FROM ontime\n",
    "    WHERE ontime.DepTime IS NOT NULL           AND\n",
    "            typeof(ontime.DepTime) = \"integer\" AND\n",
    "            ontime.DepTime % 100 < 60          AND\n",
    "            ontime.DepTime <= 2400\n",
    "    GROUP BY time,\n",
    "            ontime.UniqueCarrier\n",
    "    HAVING DepDelay IS NOT NULL                AND\n",
    "            ArrDelay IS NOT NULL\n",
    "    ORDER BY  UniqueCarrier, time\n",
    "\"\"\")\n",
    "conn.commit()"
   ]
  },
  {
   "cell_type": "code",
   "execution_count": 4,
   "metadata": {},
   "outputs": [
    {
     "data": {
      "text/plain": [
       "[(38662,)]"
      ]
     },
     "execution_count": 4,
     "metadata": {},
     "output_type": "execute_result"
    }
   ],
   "source": [
    "cur = conn.execute(\"\"\"\n",
    "SELECT count(*) FROM Arr_Delays_vs_time_h\n",
    "\"\"\")\n",
    "cur.fetchall()"
   ]
  },
  {
   "cell_type": "code",
   "execution_count": 8,
   "metadata": {},
   "outputs": [
    {
     "data": {
      "text/plain": [
       "[(29,)]"
      ]
     },
     "execution_count": 8,
     "metadata": {},
     "output_type": "execute_result"
    }
   ],
   "source": [
    "cur = conn.execute(\"\"\"\n",
    "select count(*) From (\n",
    "SELECT UniqueCarrier FROM Arr_Delays_vs_time_h group by UniqueCarrier\n",
    ")\n",
    "\"\"\")\n",
    "cur.fetchall()"
   ]
  },
  {
   "cell_type": "code",
   "execution_count": 21,
   "metadata": {},
   "outputs": [
    {
     "name": "stdout",
     "output_type": "stream",
     "text": [
      "('9E',)\n",
      "('AA',)\n",
      "('AQ',)\n",
      "('AS',)\n",
      "('B6',)\n",
      "('CO',)\n",
      "('DH',)\n",
      "('DL',)\n",
      "('EA',)\n",
      "('EV',)\n",
      "('F9',)\n",
      "('FL',)\n",
      "('HA',)\n",
      "('HP',)\n",
      "('ML (1)',)\n",
      "('MQ',)\n",
      "('NW',)\n",
      "('OH',)\n",
      "('OO',)\n",
      "('PA (1)',)\n",
      "('PI',)\n",
      "('PS',)\n",
      "('TW',)\n",
      "('TZ',)\n",
      "('UA',)\n",
      "('US',)\n",
      "('WN',)\n",
      "('XE',)\n",
      "('YV',)\n"
     ]
    }
   ],
   "source": [
    "cur = conn.execute(\"\"\"\n",
    "SELECT UniqueCarrier FROM Arr_Delays_vs_time_h group by UniqueCarrier\n",
    "\"\"\")\n",
    "x = cur.fetchall()\n",
    "for y in x: \n",
    "    p = str(y)\n",
    "    print(p)"
   ]
  },
  {
   "cell_type": "code",
   "execution_count": 5,
   "metadata": {
    "collapsed": true
   },
   "outputs": [],
   "source": [
    "conn.execute(\"\"\"\n",
    "DROP TABLE Arr_Delays_vs_time_h24102007\n",
    "\"\"\")\n",
    "conn.commit()"
   ]
  },
  {
   "cell_type": "code",
   "execution_count": 6,
   "metadata": {
    "collapsed": true
   },
   "outputs": [],
   "source": [
    "conn.execute(\"\"\"\n",
    "CREATE TABLE Arr_Delays_vs_time_h24102007 AS \n",
    "    SELECT  CASE \n",
    "               WHEN ontime.CRSDepTime == 2400 \n",
    "                  THEN 0\n",
    "                  ELSE ontime.CRSDepTime \n",
    "            END                                     AS time,\n",
    "            ontime.UniqueCarrier                    AS UniqueCarrier, \n",
    "            COUNT(*)                                AS number_of_flights,\n",
    "            AVG(ontime.ArrDelay)                    AS ArrDelay \n",
    "    FROM ontime\n",
    "    WHERE ontime.CRSDepTime IS NOT NULL           AND\n",
    "            typeof(ontime.CRSDepTime) = \"integer\" AND\n",
    "            ontime.CRSDepTime % 100 < 60          AND\n",
    "            ontime.CRSDepTime <= 2400             AND\n",
    "            ontime.year == 2007                AND\n",
    "            ontime.month == 10                 AND\n",
    "            ontime.DayofMonth == 24\n",
    "    GROUP BY time, ontime.UniqueCarrier\n",
    "    HAVING ArrDelay IS NOT NULL\n",
    "    ORDER BY  UniqueCarrier, time\n",
    "\"\"\")\n",
    "conn.commit()"
   ]
  },
  {
   "cell_type": "code",
   "execution_count": 3,
   "metadata": {},
   "outputs": [
    {
     "data": {
      "text/plain": [
       "[(11037,)]"
      ]
     },
     "execution_count": 3,
     "metadata": {},
     "output_type": "execute_result"
    }
   ],
   "source": [
    "cur = conn.execute(\"\"\"\n",
    "SELECT count(*) FROM Arr_Delays_vs_time_h24102007\n",
    "\"\"\")\n",
    "cur.fetchall()"
   ]
  },
  {
   "cell_type": "code",
   "execution_count": 1,
   "metadata": {
    "collapsed": true
   },
   "outputs": [],
   "source": [
    "# tabele wynikowe\n",
    "import pandas as pd\n",
    "import sqlite3\n",
    "\n",
    "conn_processed = sqlite3.connect(\"/home/pkosewski/python/pd4/databases/hours.sql\")\n",
    "conn           = sqlite3.connect(\"/home/pkosewski/python/pd4/databases/flights_full.sql\")\n",
    "\n",
    "# Load the data into a DataFrame\n",
    "df = pd.read_sql_query(\"SELECT * from Arr_Delays_vs_time_h24102007\", conn)\n",
    "\n",
    "# Write the new DataFrame to a new SQLite table\n",
    "df.to_sql(\"Arr_Delays_vs_time_h24102007\", conn_processed, if_exists=\"replace\")\n",
    "\n",
    "conn.close()\n",
    "conn_processed.close()"
   ]
  },
  {
   "cell_type": "code",
   "execution_count": 2,
   "metadata": {
    "collapsed": true
   },
   "outputs": [],
   "source": [
    "# tabele wynikowe\n",
    "import pandas as pd\n",
    "import sqlite3\n",
    "\n",
    "conn_processed = sqlite3.connect(\"/home/pkosewski/python/pd4/databases/hours.sql\")\n",
    "conn           = sqlite3.connect(\"/home/pkosewski/python/pd4/databases/flights_full.sql\")\n",
    "\n",
    "# Load the data into a DataFrame\n",
    "df = pd.read_sql_query(\"SELECT * from Arr_Delays_vs_time_h\", conn)\n",
    "\n",
    "# Write the new DataFrame to a new SQLite table\n",
    "df.to_sql(\"Arr_Delays_vs_time_h\", conn_processed, if_exists=\"replace\")\n",
    "\n",
    "conn.close()\n",
    "conn_processed.close()"
   ]
  }
 ],
 "metadata": {
  "kernelspec": {
   "display_name": "Python 3",
   "language": "python",
   "name": "python3"
  },
  "language_info": {
   "codemirror_mode": {
    "name": "ipython",
    "version": 3
   },
   "file_extension": ".py",
   "mimetype": "text/x-python",
   "name": "python",
   "nbconvert_exporter": "python",
   "pygments_lexer": "ipython3",
   "version": "3.6.3"
  }
 },
 "nbformat": 4,
 "nbformat_minor": 2
}
