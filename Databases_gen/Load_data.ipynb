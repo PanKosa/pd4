{
 "cells": [
  {
   "cell_type": "code",
   "execution_count": 1,
   "metadata": {
    "collapsed": true
   },
   "outputs": [],
   "source": [
    "import sqlite3\n",
    "import csv\n",
    "conn = sqlite3.connect(\"/home/pkosewski/python/pd4/ontime2.sql\")"
   ]
  },
  {
   "cell_type": "code",
   "execution_count": 2,
   "metadata": {
    "collapsed": true
   },
   "outputs": [],
   "source": [
    "conn.execute(\"\"\"\n",
    "create table ontime (\n",
    "  Year int,\n",
    "  Month int,\n",
    "  DayofMonth int,\n",
    "  DayOfWeek int,\n",
    "  DepTime  int,\n",
    "  CRSDepTime int,\n",
    "  ArrTime int,\n",
    "  CRSArrTime int,\n",
    "  UniqueCarrier varchar(5),\n",
    "  FlightNum int,\n",
    "  TailNum varchar(8),\n",
    "  ActualElapsedTime int,\n",
    "  CRSElapsedTime int,\n",
    "  AirTime int,\n",
    "  ArrDelay int,\n",
    "  DepDelay int,\n",
    "  Origin varchar(3),\n",
    "  Dest varchar(3),\n",
    "  Distance int,\n",
    "  TaxiIn int,\n",
    "  TaxiOut int,\n",
    "  Cancelled int,\n",
    "  CancellationCode varchar(1),\n",
    "  Diverted varchar(1),\n",
    "  CarrierDelay int,\n",
    "  WeatherDelay int,\n",
    "  NASDelay int,\n",
    "  SecurityDelay int,\n",
    "  LateAircraftDelay int\n",
    ");\n",
    "\"\"\")\n",
    "conn.commit()"
   ]
  },
  {
   "cell_type": "code",
   "execution_count": 3,
   "metadata": {},
   "outputs": [
    {
     "name": "stdout",
     "output_type": "stream",
     "text": [
      "Loading: data/1994.csv ...\n",
      "Done\n"
     ]
    }
   ],
   "source": [
    "for i in range(1994,1995):\n",
    "    filename = \"data/\" + str(i) + \".csv\"\n",
    "    print(\"Loading: \"+filename+\" ...\")\n",
    "    #with open(filename, encoding='latin1') as f:\n",
    "    with open(filename, encoding='utf-8') as f:\n",
    "                reader = csv.reader(f)\n",
    "                next(reader, None)\n",
    "                for field in reader:\n",
    "                    conn.execute(\"INSERT INTO ontime VALUES (?,?,?,?,?,?,?,?,?,?,?,?,?,?,?,?,?,?,?,?,?,?,?,?,?,?,?,?,?);\"\n",
    "                                , field)\n",
    "    print(\"Done\")\n"
   ]
  },
  {
   "cell_type": "code",
   "execution_count": 5,
   "metadata": {},
   "outputs": [
    {
     "name": "stdout",
     "output_type": "stream",
     "text": [
      "Loading: data/2003.csv ...\n",
      "Done\n",
      "Loading: data/2004.csv ...\n",
      "Done\n",
      "Loading: data/2005.csv ...\n",
      "Done\n",
      "Loading: data/2006.csv ...\n",
      "Done\n",
      "Loading: data/2007.csv ...\n",
      "Done\n",
      "Loading: data/2008.csv ...\n",
      "Done\n"
     ]
    }
   ],
   "source": [
    "for i in range(2003,2009):\n",
    "    filename = \"data/\" + str(i) + \".csv\"\n",
    "    print(\"Loading: \"+filename+\" ...\")\n",
    "    with open(filename, encoding='utf-8') as f:\n",
    "                reader = csv.reader(f)\n",
    "                next(reader, None)\n",
    "                for field in reader:\n",
    "                    conn.execute(\"INSERT INTO ontime VALUES (?,?,?,?,?,?,?,?,?,?,?,?,?,?,?,?,?,?,?,?,?,?,?,?,?,?,?,?,?);\"\n",
    "                                , field)\n",
    "    print(\"Done\")"
   ]
  },
  {
   "cell_type": "code",
   "execution_count": 6,
   "metadata": {
    "collapsed": true
   },
   "outputs": [],
   "source": [
    "conn.execute(\"\"\"\n",
    "create index year on ontime(year);\n",
    "\"\"\")\n",
    "\n",
    "conn.commit()"
   ]
  },
  {
   "cell_type": "code",
   "execution_count": 7,
   "metadata": {
    "collapsed": true
   },
   "outputs": [],
   "source": [
    "conn.execute(\"\"\"\n",
    "create index date on ontime(year, month, dayofmonth);\n",
    "\"\"\")\n",
    "conn.commit()"
   ]
  },
  {
   "cell_type": "code",
   "execution_count": 9,
   "metadata": {
    "collapsed": true
   },
   "outputs": [],
   "source": [
    "conn.execute(\"\"\"\n",
    "create index origin on ontime(origin);\n",
    "\"\"\")\n",
    "conn.commit()"
   ]
  },
  {
   "cell_type": "code",
   "execution_count": 10,
   "metadata": {
    "collapsed": true
   },
   "outputs": [],
   "source": [
    "conn.execute(\"\"\"\n",
    "create index dest on ontime(dest);\n",
    "\"\"\")\n",
    "conn.commit()"
   ]
  },
  {
   "cell_type": "code",
   "execution_count": 5,
   "metadata": {},
   "outputs": [
    {
     "data": {
      "text/plain": [
       "[(1994,\n",
       "  1,\n",
       "  7,\n",
       "  5,\n",
       "  858,\n",
       "  900,\n",
       "  954,\n",
       "  1003,\n",
       "  'US',\n",
       "  227,\n",
       "  'NA',\n",
       "  56,\n",
       "  63,\n",
       "  'NA',\n",
       "  -9,\n",
       "  -2,\n",
       "  'CLT',\n",
       "  'ORF',\n",
       "  290,\n",
       "  'NA',\n",
       "  'NA',\n",
       "  0,\n",
       "  'NA',\n",
       "  '0',\n",
       "  'NA',\n",
       "  'NA',\n",
       "  'NA',\n",
       "  'NA',\n",
       "  'NA'),\n",
       " (1994,\n",
       "  1,\n",
       "  8,\n",
       "  6,\n",
       "  859,\n",
       "  900,\n",
       "  952,\n",
       "  1003,\n",
       "  'US',\n",
       "  227,\n",
       "  'NA',\n",
       "  53,\n",
       "  63,\n",
       "  'NA',\n",
       "  -11,\n",
       "  -1,\n",
       "  'CLT',\n",
       "  'ORF',\n",
       "  290,\n",
       "  'NA',\n",
       "  'NA',\n",
       "  0,\n",
       "  'NA',\n",
       "  '0',\n",
       "  'NA',\n",
       "  'NA',\n",
       "  'NA',\n",
       "  'NA',\n",
       "  'NA'),\n",
       " (1994,\n",
       "  1,\n",
       "  10,\n",
       "  1,\n",
       "  935,\n",
       "  900,\n",
       "  1023,\n",
       "  1003,\n",
       "  'US',\n",
       "  227,\n",
       "  'NA',\n",
       "  48,\n",
       "  63,\n",
       "  'NA',\n",
       "  20,\n",
       "  35,\n",
       "  'CLT',\n",
       "  'ORF',\n",
       "  290,\n",
       "  'NA',\n",
       "  'NA',\n",
       "  0,\n",
       "  'NA',\n",
       "  '0',\n",
       "  'NA',\n",
       "  'NA',\n",
       "  'NA',\n",
       "  'NA',\n",
       "  'NA')]"
      ]
     },
     "execution_count": 5,
     "metadata": {},
     "output_type": "execute_result"
    }
   ],
   "source": [
    "# test czy sie nie rozjechalo\n",
    "cur = conn.execute(\"SELECT * FROM ontime LIMIT 3\")\n",
    "cur.fetchall()"
   ]
  },
  {
   "cell_type": "code",
   "execution_count": 12,
   "metadata": {
    "collapsed": true
   },
   "outputs": [],
   "source": [
    "conn.close()"
   ]
  }
 ],
 "metadata": {
  "kernelspec": {
   "display_name": "Python 3",
   "language": "python",
   "name": "python3"
  },
  "language_info": {
   "codemirror_mode": {
    "name": "ipython",
    "version": 3
   },
   "file_extension": ".py",
   "mimetype": "text/x-python",
   "name": "python",
   "nbconvert_exporter": "python",
   "pygments_lexer": "ipython3",
   "version": "3.6.3"
  }
 },
 "nbformat": 4,
 "nbformat_minor": 2
}
